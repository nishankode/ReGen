{
 "cells": [
  {
   "cell_type": "code",
   "execution_count": 1,
   "metadata": {},
   "outputs": [],
   "source": [
    "from ResumeValidator import ValidateResume\n",
    "from jobDescriptionScraper import LinkedInDescriptionScraper"
   ]
  },
  {
   "cell_type": "code",
   "execution_count": 2,
   "metadata": {},
   "outputs": [],
   "source": [
    "linkedIndescriptionCollector = LinkedInDescriptionScraper()"
   ]
  },
  {
   "cell_type": "code",
   "execution_count": 7,
   "metadata": {},
   "outputs": [],
   "source": [
    "# job_url = \"https://www.linkedin.com/jobs/search/?currentJobId=3856391848&geoId=105214831&keywords=Data%20Scientist&location=Bengaluru%2C%20Karnataka%2C%20India&origin=JOB_SEARCH_PAGE_SEARCH_BUTTON&refresh=true\"\n",
    "\n",
    "\n",
    "job_id = 3686543554\n",
    "job_description = linkedIndescriptionCollector.getDescription(job_id=job_id)"
   ]
  },
  {
   "cell_type": "code",
   "execution_count": 9,
   "metadata": {},
   "outputs": [
    {
     "name": "stdout",
     "output_type": "stream",
     "text": [
      "Description\n",
      "\n",
      "Working at West means having an opportunity to work by the side of our patients and customers, our global team members and the communities in which we operate – which all help contribute to a Healthier World.\n",
      "\n",
      "At West, we are by the side of patients. The work we do impacts patients’ lives each and every day – our products are a critical part of healthcare delivery and we are proud of the role we play to improve patient health. We work by the side of our team members. We come together as one global team to deliver for our customers and help them address their challenges. We are a diverse, close-knit community of professionals, where everyone has a voice and opportunity to learn and grow through mutual trust and respect. With a 95 year plus history, we have a track record for success, which includes reported sales of $2.14B in 2020. We serve by the side of our community. Giving back is in our DNA—our team members across more than 50 sites globally are involved with hundreds of charities that have special meaning to them through our West Without Borders team member-led giving program.\n",
      "\n",
      "Job Summary\n",
      "\n",
      "The Data Scientist, D&T will work with a multidisciplinary team to design and develop innovative data-driven analytical products and solutions for business problems using advanced analytics, data mining, and machine learning.\n",
      "\n",
      "Essential Duties And Responsibilities\n",
      "\n",
      "Work with stakeholders throughout the organization to identify opportunities for leveraging novel statistical and machine learning techniques on data problems to solve strategic business questions\n",
      "Manage the retrieving, compiling, and formatting of large volumes of data from internal and external sources\n",
      "With guidance assess the effectiveness and accuracy of data sources and data gathering techniques\n",
      "Perform data mining on large datasets (structured and unstructured), design algorithms, build models, and do analysis using advance modeling techniques to qualitatively understand the data and use results to implement change.\n",
      "With guidance establish scalable, efficient automated processes for large-scale data analyses, model development, model validation, and model implementation.\n",
      "Develop processes and tools to monitor and analyze model performance and data accuracy\n",
      "Communicate data-driven insights and recommendations to a broad range of stakeholders\n",
      "Visualize data for concise, clear delivery of highly relevant insights\n",
      "Collaborate closely with internal experts to operationalize data-driven solutions\n",
      "Experience using statistical computer languages to manipulate data and draw insights from large data sets\n",
      "Experience working with and creating data architectures.\n",
      "Knowledge of a variety of machine learning techniques (clustering, decision tree learning, artificial neural networks, etc.) and their real-world advantages/drawbacks\n",
      "Knowledge of advanced statistical techniques and concepts (regression, properties of distributions, statistical tests, and proper usage, etc.) and experience with applications\n",
      "Independent and creative approach to problem-solving\n",
      "Ability to work in a global and virtual environment and to effectively prioritize and execute tasks\n",
      "Ability to work in a fast-paced environment and utilize sound judgment with an ability to operate with a sense of urgency\n",
      "Aware of all relevant SOPs as per Company policy as they are related to the position covered by this Job Description.\n",
      "\n",
      "Education And Experience\n",
      "\n",
      "Bachelor’s in computer science/math/stats or another quantitative field\n",
      "3-6 years of relevant experience.\n",
      "\n",
      "Knowledge, Skills And Abilities\n",
      "\n",
      "Distributed Computing\n",
      "Python and SQL\n",
      "NLP/Computer Vision\n",
      "GenerativeAI\n",
      "CUDA / cuDNN\n",
      "Tensorflow\n",
      "How to evaluate/test AI models\n",
      "How to apply statistical methods in a distributed fashion\n",
      "\n",
      "Physical And Travel Requirements\n",
      "\n",
      "15% travel, including global travel\n",
      "\n",
      "West is an equal opportunity employer and we value diversity at our company. We do not discriminate on the basis of race, religion, color, national origin, gender, sex, gender identity, sexual orientation, age, marital status, veteran status, or disability status. If you have a special need that requires accommodation in order to apply to West, please send an email to Apply.Accommodation@westpharma.com . Where permitted by law, an offer of employment with West Pharmaceutical Services, or any of its subsidiary or affiliate companies, is contingent upon the satisfactory completion of background screening and/or a pre-employment drug screening.\n",
      "Show more Show less\n"
     ]
    }
   ],
   "source": [
    "print(job_description)"
   ]
  },
  {
   "cell_type": "code",
   "execution_count": 10,
   "metadata": {},
   "outputs": [],
   "source": [
    "resume = \"\"\"Data Scientist with 3 years of industrial work experience in Machine Learning and Generative AI. I possess a\n",
    "solid foundation in Python programming, Machine Learning, and working with various LLM’s and Generative AI\n",
    "Technologies. I have led teams to develop innovative solutions, optimize workflows for performance, and contribute to the advancement of AI technologies. I specialize in building closed-source commercial products leveraging Generative AI to improve people's lives. Although I lack a formal Computer Science background, my practical experience has honed my skills.\n",
    "DATA SCIENTIST\n",
    "+91 6238636870 · mdnishan006@gmail.com · Kollam, Kerala, India, 690518\n",
    "N Muhammed Nishan\n",
    "MSM College, Alappuzha, Kerala 2018-2021\n",
    "SKILLS\n",
    "Generative AI, LangChain, LLM’s, Machine Learning, Python, HTML, Prompt Engineering, Statistics, Distributed Computing, NLP, CUDA/cuDNN, TensorFlow.\n",
    "EDUCATION\n",
    "B.Sc in Physics, MSM College, Alappuzha, Kerala, 2018-2021\n",
    "PROFESSIONAL EXPERIENCE\n",
    "Data Scientist, Logicplum\n",
    "AI Cloud - Automated ML Modelling: Led a team of Data Scientists in developing a platform to reduce human intervention in building ML Models.\n",
    "Incorporated Open AI GPT-4 for intelligent ML decisions.\n",
    "Created pipelines to automate the Modelling Workflow.\n",
    "Implemented advanced monitoring and alerting systems for real-time performance tracking.\n",
    "Fostered a culture of continuous learning and improvement within the team.\n",
    "June 2022 - Present (3 Years)\n",
    "AI For Alignment Chain: Developed a platform to automate requirement gathering and product feature generation tasks.\n",
    "Deployed a comprehensive LLM Application with Langchain, LLama Index, OpenAI, Mistral 7b, Ollama.\n",
    "Automated identification of potential clashes in client requirements using historical data.\n",
    "Utilized Langchain Architecture for end-to-end Workflow with Vector Databases.\n",
    "Aided PM’s in reducing workload by 30%.\n",
    "PERSONAL PROJECTS (OPEN & CLOSED)\n",
    "AI Assisted Instagram Reel Generator Platform: Spearheaded the development of an AI Assisted Instagram Reel Generator powered by Google Gemini LLM.\n",
    "ReGen - Job Search and Resume Generator: Developed an AI-based platform to tailor resumes for specific job descriptions.\n",
    "Webby- Chat with websites: Developed an AI-based chatbot utilizing Open AI API.\n",
    "Multi Document Chatbot: Developed a Langchain-powered AI chatbot for processing multiple documents.\n",
    "Github : https://github.com/nishan0000\"\"\"\n"
   ]
  },
  {
   "cell_type": "code",
   "execution_count": 11,
   "metadata": {},
   "outputs": [],
   "source": [
    "resume_score_validator = ValidateResume()\n",
    "scores = resume_score_validator.get_resume_scores(resume, job_description)"
   ]
  },
  {
   "cell_type": "code",
   "execution_count": 12,
   "metadata": {},
   "outputs": [
    {
     "data": {
      "text/plain": [
       "{'Keyword_Matching_Score': '75',\n",
       " 'Skills_Matching_Score': '85',\n",
       " 'Qualifications_Matching_Score': '70',\n",
       " 'Experience_Alignment_Score': '80',\n",
       " 'Education_and_Certifications_Alignment_Score': '60',\n",
       " 'Soft_Skills_and_Personal_Attributes_Score': '75',\n",
       " 'Overall_Fit_Score': '77'}"
      ]
     },
     "execution_count": 12,
     "metadata": {},
     "output_type": "execute_result"
    }
   ],
   "source": [
    "scores"
   ]
  },
  {
   "cell_type": "code",
   "execution_count": null,
   "metadata": {},
   "outputs": [],
   "source": []
  }
 ],
 "metadata": {
  "kernelspec": {
   "display_name": "regen-V_m12Eu9-py3.11",
   "language": "python",
   "name": "python3"
  },
  "language_info": {
   "codemirror_mode": {
    "name": "ipython",
    "version": 3
   },
   "file_extension": ".py",
   "mimetype": "text/x-python",
   "name": "python",
   "nbconvert_exporter": "python",
   "pygments_lexer": "ipython3",
   "version": "3.11.5"
  }
 },
 "nbformat": 4,
 "nbformat_minor": 2
}
