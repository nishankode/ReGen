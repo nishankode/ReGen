{
 "cells": [
  {
   "cell_type": "code",
   "execution_count": 1,
   "metadata": {},
   "outputs": [],
   "source": [
    "from selenium import webdriver\n",
    "from selenium.webdriver.edge.service import Service\n",
    "from webdriver_manager.microsoft import EdgeChromiumDriverManager\n",
    "\n",
    "# Setup Edge options\n",
    "from selenium.webdriver.edge.options import Options\n",
    "options = Options()\n",
    "options.use_chromium = True # This is necessary for Edge Chromium\n",
    "\n",
    "# Setup Edge WebDriver with webdriver_manager\n",
    "service = Service(executable_path=EdgeChromiumDriverManager().install())\n",
    "driver = webdriver.Edge(service=service, options=options)\n",
    "\n",
    "# Maximising the window\n",
    "driver.maximize_window()"
   ]
  },
  {
   "cell_type": "markdown",
   "metadata": {},
   "source": [
    "# Login"
   ]
  },
  {
   "cell_type": "code",
   "execution_count": 2,
   "metadata": {},
   "outputs": [],
   "source": [
    "import getpass\n",
    "import constants as c\n",
    "from selenium.webdriver.support.wait import WebDriverWait\n",
    "from selenium.webdriver.common.by import By\n",
    "from selenium.webdriver.support import expected_conditions as EC\n",
    "\n",
    "def __prompt_email_password():\n",
    "  u = input(\"Email: \")\n",
    "  p = getpass.getpass(prompt=\"Password: \")\n",
    "  return (u, p)\n",
    "\n",
    "def page_has_loaded(driver):\n",
    "    page_state = driver.execute_script('return document.readyState;')\n",
    "    return page_state == 'complete'\n",
    "\n",
    "def login(driver, email=None, password=None, cookie = None, timeout=10):\n",
    "    if cookie is not None:\n",
    "        return _login_with_cookie(driver, cookie)\n",
    "  \n",
    "    if not email or not password:\n",
    "        email, password = __prompt_email_password()\n",
    "  \n",
    "    driver.get(\"https://www.linkedin.com/login\")\n",
    "    element = WebDriverWait(driver, 10).until(EC.presence_of_element_located((By.ID, \"username\")))\n",
    "  \n",
    "    email_elem = driver.find_element(By.ID,\"username\")\n",
    "    email_elem.send_keys(email)\n",
    "  \n",
    "    password_elem = driver.find_element(By.ID,\"password\")\n",
    "    password_elem.send_keys(password)\n",
    "    password_elem.submit()\n",
    "  \n",
    "    if driver.current_url == 'https://www.linkedin.com/checkpoint/lg/login-submit':\n",
    "        remember = driver.find_element(By.ID,c.REMEMBER_PROMPT)\n",
    "        if remember:\n",
    "            remember.submit()\n",
    "  \n",
    "    element = WebDriverWait(driver, timeout).until(EC.presence_of_element_located((By.CLASS_NAME, c.VERIFY_LOGIN_ID)))\n",
    "  \n",
    "def _login_with_cookie(driver, cookie):\n",
    "    driver.get(\"https://www.linkedin.com/login\")\n",
    "    driver.add_cookie({\n",
    "      \"name\": \"li_at\",\n",
    "      \"value\": cookie\n",
    "    })"
   ]
  },
  {
   "cell_type": "code",
   "execution_count": 3,
   "metadata": {},
   "outputs": [],
   "source": [
    "email='regenlinkedin.yfn84@aleeas.com'\n",
    "password='Nishan@123'\n",
    "\n",
    "\n",
    "login(driver, email, password, cookie = None, timeout=10)"
   ]
  },
  {
   "cell_type": "markdown",
   "metadata": {},
   "source": [
    "# Job Search"
   ]
  },
  {
   "cell_type": "code",
   "execution_count": 30,
   "metadata": {},
   "outputs": [],
   "source": [
    "import os\n",
    "from typing import List\n",
    "from time import sleep\n",
    "import urllib.parse\n",
    "\n",
    "from objects import Scraper\n",
    "import constants as c\n",
    "from jobs import Job\n",
    "\n",
    "from selenium.webdriver.common.by import By\n",
    "from selenium.webdriver.support.wait import WebDriverWait\n",
    "from selenium.webdriver.support import expected_conditions as EC\n",
    "from selenium.webdriver.common.keys import Keys\n",
    "\n",
    "\n",
    "class JobSearch(Scraper):\n",
    "    AREAS = [\"recommended_jobs\", None, \"still_hiring\", \"more_jobs\"]\n",
    "\n",
    "    def __init__(self, driver, base_url=\"https://www.linkedin.com/jobs/\", close_on_complete=False, scrape=True, scrape_recommended_jobs=True):\n",
    "        # super().__init__()\n",
    "        self.driver = driver\n",
    "        self.base_url = base_url\n",
    "\n",
    "        if scrape:\n",
    "            self.scrape(close_on_complete, scrape_recommended_jobs)\n",
    "\n",
    "\n",
    "    def scrape(self, close_on_complete=True, scrape_recommended_jobs=True):\n",
    "        if self.is_signed_in():\n",
    "            self.scrape_logged_in(close_on_complete=close_on_complete, scrape_recommended_jobs=scrape_recommended_jobs)\n",
    "        else:\n",
    "            raise NotImplemented(\"This part is not implemented yet\")\n",
    "\n",
    "\n",
    "    def scrape_job_card(self, base_element) -> Job:\n",
    "        job_div = self.wait_for_element_to_load(name=\"job-card-list__title\", base=base_element)\n",
    "        job_title = job_div.text.strip()\n",
    "        linkedin_url = job_div.get_attribute(\"href\")\n",
    "        company = base_element.find_element(By.CLASS_NAME, \"artdeco-entity-lockup__subtitle\").text\n",
    "        location = base_element.find_element(By.CLASS_NAME, \"job-card-container__metadata-wrapper\").text\n",
    "        job = Job(linkedin_url=linkedin_url, job_title=job_title, company=company, location=location, scrape=False, driver=self.driver)\n",
    "        return job\n",
    "\n",
    "\n",
    "    def scrape_logged_in(self, close_on_complete=True, scrape_recommended_jobs=True):\n",
    "        driver = self.driver\n",
    "        driver.get(self.base_url)\n",
    "        print(self.base_url)\n",
    "        if scrape_recommended_jobs:\n",
    "            self.focus()\n",
    "            sleep(self.WAIT_FOR_ELEMENT_TIMEOUT)\n",
    "            job_area = self.wait_for_element_to_load(name=\"scaffold-finite-scroll__content\")\n",
    "            areas = self.wait_for_all_elements_to_load(name=\"artdeco-card\", base=job_area)\n",
    "            for i, area in enumerate(areas):\n",
    "                area_name = self.AREAS[i]\n",
    "                print(area.get_attribute('class'))\n",
    "                if not area_name:\n",
    "                    continue\n",
    "                area_results = []\n",
    "                # for job_posting in area.find_element(By.CLASS_NAME, \"jobs-job-board-list__item\"):\n",
    "                # ember-view   jobs-search-results__list-item occludable-update p0 relative scaffold-layout__list-item\n",
    "              \n",
    "                for job_posting in area.find_element(By.CLASS_NAME, \"jobs-search-results__list-item\"):                    \n",
    "                    job = self.scrape_job_card(job_posting)\n",
    "                    area_results.append(job)\n",
    "                setattr(self, area_name, area_results)\n",
    "        return\n",
    "\n",
    "\n",
    "    def search(self, search_term: str) -> List[Job]:\n",
    "        url = os.path.join(self.base_url, \"search\") + f\"?keywords={urllib.parse.quote(search_term)}&refresh=true\"\n",
    "        self.driver.get(url)\n",
    "        self.scroll_to_bottom()\n",
    "        self.focus()\n",
    "        sleep(self.WAIT_FOR_ELEMENT_TIMEOUT)\n",
    "\n",
    "        job_listing_class_name = \"jobs-search-results-list\"\n",
    "        job_listing_class_name = \"jobs-search-results__list-item\"\n",
    "        \n",
    "        job_listing = self.wait_for_element_to_load(name=job_listing_class_name)\n",
    "\n",
    "        self.scroll_class_name_element_to_page_percent(job_listing_class_name, 0.3)\n",
    "        self.focus()\n",
    "        sleep(self.WAIT_FOR_ELEMENT_TIMEOUT)\n",
    "\n",
    "        self.scroll_class_name_element_to_page_percent(job_listing_class_name, 0.6)\n",
    "        self.focus()\n",
    "        sleep(self.WAIT_FOR_ELEMENT_TIMEOUT)\n",
    "\n",
    "        self.scroll_class_name_element_to_page_percent(job_listing_class_name, 1)\n",
    "        self.focus()\n",
    "        sleep(self.WAIT_FOR_ELEMENT_TIMEOUT)\n",
    "\n",
    "        job_results = []\n",
    "        for job_card in self.wait_for_all_elements_to_load(name=\"job-card-list\", base=job_listing):\n",
    "            job = self.scrape_job_card(job_card)\n",
    "            job_results.append(job)\n",
    "        return job_results"
   ]
  },
  {
   "cell_type": "code",
   "execution_count": 32,
   "metadata": {},
   "outputs": [
    {
     "name": "stdout",
     "output_type": "stream",
     "text": [
      "https://www.linkedin.com/jobs/\n"
     ]
    }
   ],
   "source": [
    "job_search = JobSearch(driver, close_on_complete=True, scrape=True, scrape_recommended_jobs=False)\n"
   ]
  },
  {
   "cell_type": "code",
   "execution_count": 35,
   "metadata": {},
   "outputs": [],
   "source": [
    "jobs = job_search.search('Data Scientist')"
   ]
  },
  {
   "cell_type": "code",
   "execution_count": 40,
   "metadata": {},
   "outputs": [
    {
     "ename": "TimeoutException",
     "evalue": "Message: \nStacktrace:\n\tGetHandleVerifier [0x00007FF6B832B7F2+63538]\n\tMicrosoft::Applications::Events::ILogConfiguration::operator* [0x00007FF6B82AF672+238306]\n\t(No symbol) [0x00007FF6B80E3407]\n\t(No symbol) [0x00007FF6B81297ED]\n\t(No symbol) [0x00007FF6B81298B0]\n\t(No symbol) [0x00007FF6B8164387]\n\t(No symbol) [0x00007FF6B8148E5F]\n\t(No symbol) [0x00007FF6B811F037]\n\t(No symbol) [0x00007FF6B8161F49]\n\t(No symbol) [0x00007FF6B8148A83]\n\t(No symbol) [0x00007FF6B811E55E]\n\t(No symbol) [0x00007FF6B811D71C]\n\t(No symbol) [0x00007FF6B811E111]\n\tMicrosoft::Applications::Events::EventProperty::to_string [0x00007FF6B8501CDC+1102764]\n\t(No symbol) [0x00007FF6B81925F6]\n\t(No symbol) [0x00007FF6B8223DAC]\n\t(No symbol) [0x00007FF6B821BDA8]\n\tMicrosoft::Applications::Events::EventProperty::to_string [0x00007FF6B8500C25+1098485]\n\tMicrosoft::Applications::Events::ILogConfiguration::operator* [0x00007FF6B82B9E31+281249]\n\tMicrosoft::Applications::Events::ILogConfiguration::operator* [0x00007FF6B82B45B4+258596]\n\tMicrosoft::Applications::Events::ILogConfiguration::operator* [0x00007FF6B82B46EF+258911]\n\tMicrosoft::Applications::Events::ILogConfiguration::operator* [0x00007FF6B82A8EC1+211761]\n\tBaseThreadInitThunk [0x00007FFB9824257D+29]\n\tRtlUserThreadStart [0x00007FFB99A6AA58+40]\n",
     "output_type": "error",
     "traceback": [
      "\u001b[1;31m---------------------------------------------------------------------------\u001b[0m",
      "\u001b[1;31mTimeoutException\u001b[0m                          Traceback (most recent call last)",
      "Cell \u001b[1;32mIn[40], line 1\u001b[0m\n\u001b[1;32m----> 1\u001b[0m \u001b[43mjobs\u001b[49m\u001b[43m[\u001b[49m\u001b[38;5;241;43m0\u001b[39;49m\u001b[43m]\u001b[49m\u001b[38;5;241;43m.\u001b[39;49m\u001b[43mscrape_logged_in\u001b[49m\u001b[43m(\u001b[49m\u001b[43m)\u001b[49m\n",
      "File \u001b[1;32mc:\\Users\\mnsnn\\Documents\\AI\\AI Products\\ReGen\\src\\regen\\scraper\\jobs.py:69\u001b[0m, in \u001b[0;36mJob.scrape_logged_in\u001b[1;34m(self, close_on_complete)\u001b[0m\n\u001b[0;32m     67\u001b[0m driver\u001b[38;5;241m.\u001b[39mget(\u001b[38;5;28mself\u001b[39m\u001b[38;5;241m.\u001b[39mlinkedin_url)\n\u001b[0;32m     68\u001b[0m \u001b[38;5;28mself\u001b[39m\u001b[38;5;241m.\u001b[39mfocus()\n\u001b[1;32m---> 69\u001b[0m \u001b[38;5;28mself\u001b[39m\u001b[38;5;241m.\u001b[39mjob_title \u001b[38;5;241m=\u001b[39m \u001b[38;5;28;43mself\u001b[39;49m\u001b[38;5;241;43m.\u001b[39;49m\u001b[43mwait_for_element_to_load\u001b[49m\u001b[43m(\u001b[49m\u001b[43mname\u001b[49m\u001b[38;5;241;43m=\u001b[39;49m\u001b[38;5;124;43m\"\u001b[39;49m\u001b[38;5;124;43mjobs-unified-top-card__job-title\u001b[39;49m\u001b[38;5;124;43m\"\u001b[39;49m\u001b[43m)\u001b[49m\u001b[38;5;241m.\u001b[39mtext\u001b[38;5;241m.\u001b[39mstrip()\n\u001b[0;32m     70\u001b[0m \u001b[38;5;28mself\u001b[39m\u001b[38;5;241m.\u001b[39mcompany \u001b[38;5;241m=\u001b[39m \u001b[38;5;28mself\u001b[39m\u001b[38;5;241m.\u001b[39mwait_for_element_to_load(name\u001b[38;5;241m=\u001b[39m\u001b[38;5;124m\"\u001b[39m\u001b[38;5;124mjobs-unified-top-card__company-name\u001b[39m\u001b[38;5;124m\"\u001b[39m)\u001b[38;5;241m.\u001b[39mtext\u001b[38;5;241m.\u001b[39mstrip()\n\u001b[0;32m     71\u001b[0m \u001b[38;5;28mself\u001b[39m\u001b[38;5;241m.\u001b[39mcompany_linkedin_url \u001b[38;5;241m=\u001b[39m \u001b[38;5;28mself\u001b[39m\u001b[38;5;241m.\u001b[39mwait_for_element_to_load(name\u001b[38;5;241m=\u001b[39m\u001b[38;5;124m\"\u001b[39m\u001b[38;5;124mjobs-unified-top-card__company-name\u001b[39m\u001b[38;5;124m\"\u001b[39m)\u001b[38;5;241m.\u001b[39mfind_element_by_tag_name(\u001b[38;5;124m\"\u001b[39m\u001b[38;5;124ma\u001b[39m\u001b[38;5;124m\"\u001b[39m)\u001b[38;5;241m.\u001b[39mget_attribute(\u001b[38;5;124m\"\u001b[39m\u001b[38;5;124mhref\u001b[39m\u001b[38;5;124m\"\u001b[39m)\n",
      "File \u001b[1;32mc:\\Users\\mnsnn\\Documents\\AI\\AI Products\\ReGen\\src\\regen\\scraper\\objects.py:83\u001b[0m, in \u001b[0;36mScraper.wait_for_element_to_load\u001b[1;34m(self, by, name, base)\u001b[0m\n\u001b[0;32m     81\u001b[0m \u001b[38;5;28;01mdef\u001b[39;00m \u001b[38;5;21mwait_for_element_to_load\u001b[39m(\u001b[38;5;28mself\u001b[39m, by\u001b[38;5;241m=\u001b[39mBy\u001b[38;5;241m.\u001b[39mCLASS_NAME, name\u001b[38;5;241m=\u001b[39m\u001b[38;5;124m\"\u001b[39m\u001b[38;5;124mpv-top-card\u001b[39m\u001b[38;5;124m\"\u001b[39m, base\u001b[38;5;241m=\u001b[39m\u001b[38;5;28;01mNone\u001b[39;00m):\n\u001b[0;32m     82\u001b[0m     base \u001b[38;5;241m=\u001b[39m base \u001b[38;5;129;01mor\u001b[39;00m \u001b[38;5;28mself\u001b[39m\u001b[38;5;241m.\u001b[39mdriver\n\u001b[1;32m---> 83\u001b[0m     \u001b[38;5;28;01mreturn\u001b[39;00m \u001b[43mWebDriverWait\u001b[49m\u001b[43m(\u001b[49m\u001b[43mbase\u001b[49m\u001b[43m,\u001b[49m\u001b[43m \u001b[49m\u001b[38;5;28;43mself\u001b[39;49m\u001b[38;5;241;43m.\u001b[39;49m\u001b[43mWAIT_FOR_ELEMENT_TIMEOUT\u001b[49m\u001b[43m)\u001b[49m\u001b[38;5;241;43m.\u001b[39;49m\u001b[43muntil\u001b[49m\u001b[43m(\u001b[49m\n\u001b[0;32m     84\u001b[0m \u001b[43m        \u001b[49m\u001b[43mEC\u001b[49m\u001b[38;5;241;43m.\u001b[39;49m\u001b[43mpresence_of_element_located\u001b[49m\u001b[43m(\u001b[49m\n\u001b[0;32m     85\u001b[0m \u001b[43m            \u001b[49m\u001b[43m(\u001b[49m\n\u001b[0;32m     86\u001b[0m \u001b[43m                \u001b[49m\u001b[43mby\u001b[49m\u001b[43m,\u001b[49m\n\u001b[0;32m     87\u001b[0m \u001b[43m                \u001b[49m\u001b[43mname\u001b[49m\n\u001b[0;32m     88\u001b[0m \u001b[43m            \u001b[49m\u001b[43m)\u001b[49m\n\u001b[0;32m     89\u001b[0m \u001b[43m        \u001b[49m\u001b[43m)\u001b[49m\n\u001b[0;32m     90\u001b[0m \u001b[43m    \u001b[49m\u001b[43m)\u001b[49m\n",
      "File \u001b[1;32mc:\\Users\\mnsnn\\AppData\\Local\\pypoetry\\Cache\\virtualenvs\\regen-V_m12Eu9-py3.11\\Lib\\site-packages\\selenium\\webdriver\\support\\wait.py:95\u001b[0m, in \u001b[0;36mWebDriverWait.until\u001b[1;34m(self, method, message)\u001b[0m\n\u001b[0;32m     93\u001b[0m     \u001b[38;5;28;01mif\u001b[39;00m time\u001b[38;5;241m.\u001b[39mmonotonic() \u001b[38;5;241m>\u001b[39m end_time:\n\u001b[0;32m     94\u001b[0m         \u001b[38;5;28;01mbreak\u001b[39;00m\n\u001b[1;32m---> 95\u001b[0m \u001b[38;5;28;01mraise\u001b[39;00m TimeoutException(message, screen, stacktrace)\n",
      "\u001b[1;31mTimeoutException\u001b[0m: Message: \nStacktrace:\n\tGetHandleVerifier [0x00007FF6B832B7F2+63538]\n\tMicrosoft::Applications::Events::ILogConfiguration::operator* [0x00007FF6B82AF672+238306]\n\t(No symbol) [0x00007FF6B80E3407]\n\t(No symbol) [0x00007FF6B81297ED]\n\t(No symbol) [0x00007FF6B81298B0]\n\t(No symbol) [0x00007FF6B8164387]\n\t(No symbol) [0x00007FF6B8148E5F]\n\t(No symbol) [0x00007FF6B811F037]\n\t(No symbol) [0x00007FF6B8161F49]\n\t(No symbol) [0x00007FF6B8148A83]\n\t(No symbol) [0x00007FF6B811E55E]\n\t(No symbol) [0x00007FF6B811D71C]\n\t(No symbol) [0x00007FF6B811E111]\n\tMicrosoft::Applications::Events::EventProperty::to_string [0x00007FF6B8501CDC+1102764]\n\t(No symbol) [0x00007FF6B81925F6]\n\t(No symbol) [0x00007FF6B8223DAC]\n\t(No symbol) [0x00007FF6B821BDA8]\n\tMicrosoft::Applications::Events::EventProperty::to_string [0x00007FF6B8500C25+1098485]\n\tMicrosoft::Applications::Events::ILogConfiguration::operator* [0x00007FF6B82B9E31+281249]\n\tMicrosoft::Applications::Events::ILogConfiguration::operator* [0x00007FF6B82B45B4+258596]\n\tMicrosoft::Applications::Events::ILogConfiguration::operator* [0x00007FF6B82B46EF+258911]\n\tMicrosoft::Applications::Events::ILogConfiguration::operator* [0x00007FF6B82A8EC1+211761]\n\tBaseThreadInitThunk [0x00007FFB9824257D+29]\n\tRtlUserThreadStart [0x00007FFB99A6AA58+40]\n"
     ]
    }
   ],
   "source": [
    "jobs[0].scrape_logged_in()"
   ]
  },
  {
   "cell_type": "code",
   "execution_count": null,
   "metadata": {},
   "outputs": [],
   "source": []
  }
 ],
 "metadata": {
  "kernelspec": {
   "display_name": "ReGen",
   "language": "python",
   "name": "regen"
  },
  "language_info": {
   "codemirror_mode": {
    "name": "ipython",
    "version": 3
   },
   "file_extension": ".py",
   "mimetype": "text/x-python",
   "name": "python",
   "nbconvert_exporter": "python",
   "pygments_lexer": "ipython3",
   "version": "3.11.5"
  }
 },
 "nbformat": 4,
 "nbformat_minor": 2
}
