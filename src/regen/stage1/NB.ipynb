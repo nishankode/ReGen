{
 "cells": [
  {
   "cell_type": "code",
   "execution_count": 1,
   "metadata": {},
   "outputs": [],
   "source": [
    "from LinkedinDescriptionScraper import DescriptionScraper"
   ]
  },
  {
   "cell_type": "code",
   "execution_count": 6,
   "metadata": {},
   "outputs": [],
   "source": [
    "job_link = \"https://www.linkedin.com/jobs/view/3844480665\""
   ]
  },
  {
   "cell_type": "code",
   "execution_count": 7,
   "metadata": {},
   "outputs": [],
   "source": [
    "description_collector = DescriptionScraper(job_link, email=None, password=None)"
   ]
  },
  {
   "cell_type": "code",
   "execution_count": 8,
   "metadata": {},
   "outputs": [],
   "source": [
    "description = description_collector.get_description()"
   ]
  },
  {
   "cell_type": "code",
   "execution_count": 9,
   "metadata": {},
   "outputs": [
    {
     "name": "stdout",
     "output_type": "stream",
     "text": [
      "Role Overview\n",
      "\n",
      "Be the Architect of Personalized Experiences at McAfee: Senior Data Scientist (Pricing & Recommendations).\n",
      "\n",
      "Are you passionate about harnessing the power of data to drive impactful business decisions? McAfee is seeking a Senior Data Scientist to play a pivotal role in shaping the future of our consumer journey through cutting-edge Machine Learning (ML) solutions for pricing and recommendations. Join us and make a tangible difference in the lives of our customers by developing innovative solutions that deliver personalized experiences and optimize value.\n",
      "\n",
      "This is a remote position in India. We will only consider candidates currently in India and are not offering relocation assistance at this time.\n",
      "\n",
      "About The Role\n",
      "\n",
      "\n",
      " Ability to attend meetings and discussions during overlapping Pacific Standard Time (PST) hours (must-have).\n",
      "Conceptualize, design, and implement state-of-the-art ML models for dynamic pricing strategies and personalized product recommendations.\n",
      "Develop, implement, and deploy machine learning models that leverage our unique combination of user behavior and subscription data to improve consumer value from our products.\n",
      "Engineer and maintain large-scale consumer behavioral feature stores while ensuring scalability and performance.\n",
      "Develop and maintain data pipelines and infrastructure to support efficient and scalable ML model development and deployment.\n",
      "Collaborate with cross-functional teams (Marketing, Product, Sales) to ensure your solutions align with strategic objectives and deliver real-world impact.\n",
      "Create algorithms for optimizing consumer journeys and increasing conversion and https://www.l\n",
      "inkedin.com/redir/phishing-page?url=monetization%2eDesign, analyze, and troubleshoot controlled experiments (Causal A/B tests, Multivariate tests) to validat\n",
      "e your solu\n",
      "tions and measure their effectiveness.\n",
      "\n",
      "About You\n",
      "\n",
      "Master's Degree / Ph.D in Machine Learning, Statistics, Dat\n",
      "a Science or related quantitative fields preferred.7 to 9 years of experience in one or more of the following areas: machine learning (including deep learning), recommendation systems, pattern r\n",
      "ecognition, data mining or artificial intelligence.Proficient in Python, SQL, intermediate data engineering skill set with tools, libraries, or frameworks such as MapReduce, Hadoop, Hive and Big Data technolo\n",
      "gies, scikit-learn, Keras, TensorFlow, PyTorch etc.Experience with various ML techniques and frameworks, e.g., data discretization, normalization, sampling, linear reg\n",
      "ression, decision trees, deep neural networks, etc.Experience in building indust\n",
      "ry-standard recommender systems and pricing models.Expert\n",
      "ise in MLOps, ML Engineering and Solution Design.\n",
      "\n",
      "Company Overview\n",
      "\n",
      "McAfee is a leader in personal security for consumers. Focused on protecting people, not just devices, McAfee consumer solutions adapt to users’ needs in an always online world, empowering them to live securely through integrated, intuitive solutions that protects their families and communities with the right security at the right moment.\n",
      "\n",
      "Company Benefits And Perks\n",
      "\n",
      "We work hard to embrace diversity and inclusion and encourage everyone at McAfee to bring their authentic selves to work every day. We offer a variety of social programs, flexible work hours and \n",
      "family-friend\n",
      "ly benefits to all of our em\n",
      "ployees.\n",
      "\n",
      "Bonus ProgramPension and \n",
      "Retirement Pl\n",
      "ansMedical, Dental \n",
      "and Vision CoveragePaid Time OffPai\n",
      "d Parental LeaveSupport for Community Involvement\n",
      "\n",
      "We're serious about our commitment to diversity which is why McAfee prohibits discrimination based on race, color, religion, gender, national origin, age, disability, veteran status, marital status, pregnancy, gender expression or identity, sexual orientation or any other legally protected status.\n",
      "\n",
      "\n"
     ]
    }
   ],
   "source": [
    "print(description)"
   ]
  },
  {
   "cell_type": "code",
   "execution_count": null,
   "metadata": {},
   "outputs": [],
   "source": []
  }
 ],
 "metadata": {
  "kernelspec": {
   "display_name": "regen-V_m12Eu9-py3.11",
   "language": "python",
   "name": "python3"
  },
  "language_info": {
   "codemirror_mode": {
    "name": "ipython",
    "version": 3
   },
   "file_extension": ".py",
   "mimetype": "text/x-python",
   "name": "python",
   "nbconvert_exporter": "python",
   "pygments_lexer": "ipython3",
   "version": "3.11.5"
  }
 },
 "nbformat": 4,
 "nbformat_minor": 2
}
