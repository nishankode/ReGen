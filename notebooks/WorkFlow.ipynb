{
 "cells": [
  {
   "cell_type": "code",
   "execution_count": 1,
   "metadata": {},
   "outputs": [],
   "source": [
    "import sys\n",
    "sys.path.append('../src')\n",
    "sys.path.append('../scripts')\n",
    "\n",
    "import warnings\n",
    "warnings.filterwarnings('ignore')"
   ]
  },
  {
   "cell_type": "code",
   "execution_count": 2,
   "metadata": {},
   "outputs": [],
   "source": [
    "from jobDescriptionScraper import LinkedInDescriptionScraper\n",
    "from jobListingScraper import LinkedInJobListingScraper"
   ]
  },
  {
   "cell_type": "code",
   "execution_count": 3,
   "metadata": {},
   "outputs": [],
   "source": [
    "from resumeRestructre import save_restructured_resume"
   ]
  },
  {
   "cell_type": "code",
   "execution_count": 4,
   "metadata": {},
   "outputs": [],
   "source": [
    "# Restructuring the input resume\n",
    "restructured_resume_path = save_restructured_resume('inputs\\sample_resume_input_1.pdf', 1)"
   ]
  },
  {
   "cell_type": "code",
   "execution_count": 6,
   "metadata": {},
   "outputs": [
    {
     "name": "stdout",
     "output_type": "stream",
     "text": [
      "Scraping page starting at 0\n",
      "CPU times: total: 281 ms\n",
      "Wall time: 44.3 s\n"
     ]
    }
   ],
   "source": [
    "%%time\n",
    "# Job Listing Scraping\n",
    "job_listing_scraper = LinkedInJobListingScraper()\n",
    "jobs = job_listing_scraper.scrape_linkedin_jobs(\"Data Analyst\", \"Kerala\", 10, \"../linkedincookies.pkl\")"
   ]
  },
  {
   "cell_type": "code",
   "execution_count": 7,
   "metadata": {},
   "outputs": [
    {
     "name": "stdout",
     "output_type": "stream",
     "text": [
      "CPU times: total: 31.2 ms\n",
      "Wall time: 18.5 s\n"
     ]
    }
   ],
   "source": [
    "%%time\n",
    "# Job Description Scraping\n",
    "job_description_scraper = LinkedInDescriptionScraper()\n",
    "jobs['Job Descriptions'] = jobs['Job ID'].apply(lambda x : job_description_scraper.getDescription(job_id=x))"
   ]
  },
  {
   "cell_type": "code",
   "execution_count": 9,
   "metadata": {},
   "outputs": [],
   "source": [
    "from pdfLoader import loadPdfContent\n",
    "\n",
    "old_resume_content = loadPdfContent(restructured_resume_path)"
   ]
  },
  {
   "cell_type": "code",
   "execution_count": 10,
   "metadata": {},
   "outputs": [],
   "source": [
    "# Old Resume Scoring\n",
    "from resumeRelevancyScore import RelevanceScorer\n",
    "resume_relevence_scorer = RelevanceScorer()\n",
    "\n",
    "jobs['Old Resume Score'] = jobs['Job Descriptions'].apply(lambda x : resume_relevence_scorer.calculate_relevance_score(old_resume_content, x))"
   ]
  },
  {
   "cell_type": "code",
   "execution_count": 11,
   "metadata": {},
   "outputs": [],
   "source": [
    "# Perfect above this\n",
    "\n",
    "# Develop below this"
   ]
  },
  {
   "cell_type": "code",
   "execution_count": 7,
   "metadata": {},
   "outputs": [],
   "source": [
    "generated_json_data = {\n",
    "  \"name\": \"John Anderson\",\n",
    "  \"contact\": {\n",
    "    \"email\": \"john.anderson@gmail.com\",\n",
    "    \"linkedin\": \"linkedin.com/in/johnanderson\",\n",
    "    \"github\": \"github.com/johndevml\",\n",
    "    \"phone\": \"(555) 555-1234\",\n",
    "    \"location\": \"India\"\n",
    "  },\n",
    "  \"summary\": \"Senior MLOps Engineer with 7+ years of experience in deploying, managing, and optimizing machine learning pipelines and systems at scale. Expertise in building and scaling AI solutions using Docker, Kubernetes, and cloud platforms like AWS and GCP. Skilled in automating end-to-end MLOps workflows, implementing CI/CD pipelines, and leveraging advanced AI tools including TensorFlow and PyTorch. Proven track record in ensuring model performance and reliability through real-time monitoring and optimization, with a focus on problem-solving and continuous improvement.\",\n",
    "  \"skills\": {\n",
    "    \"mlops_tools\": [\n",
    "      \"Docker\",\n",
    "      \"Kubernetes\",\n",
    "      \"Jenkins\",\n",
    "      \"MLflow\",\n",
    "      \"Airflow\",\n",
    "      \"Argo Workflows\",\n",
    "      \"Terraform\",\n",
    "      \"Ansible\"\n",
    "    ],\n",
    "    \"machine_learning\": [\n",
    "      \"Supervised/Unsupervised Learning\",\n",
    "      \"Model Deployment\",\n",
    "      \"Model Performance Monitoring\"\n",
    "    ],\n",
    "    \"cloud_platforms\": [\n",
    "      \"AWS (EC2, S3, Lambda, SageMaker, EMR, Kinesis, SQS, SNS)\",\n",
    "      \"GCP (AI Platform, Compute Engine)\"\n",
    "    ],\n",
    "    \"programming_languages\": [\n",
    "      \"Python\",\n",
    "      \"SQL\"\n",
    "    ],\n",
    "    \"version_control_ci_cd\": [\n",
    "      \"Git\",\n",
    "      \"Jenkins\",\n",
    "      \"GitHub Actions\",\n",
    "      \"TravisCI\",\n",
    "      \"Bamboo\"\n",
    "    ],\n",
    "    \"data_engineering\": [\n",
    "      \"Apache Spark\",\n",
    "      \"Airflow\"\n",
    "    ]\n",
    "  },\n",
    "  \"experience\": [\n",
    "    {\n",
    "      \"title\": \"MLOps Engineer\",\n",
    "      \"company\": \"Invenics Systems\",\n",
    "      \"location\": \"Kochi, India\",\n",
    "      \"duration\": \"June 2022 - Present\",\n",
    "      \"responsibilities\": [\n",
    "        \"Architected and deployed real-time object detection models for autonomous vehicle systems, using TensorFlow and YOLOv5, with a focus on scalability and performance.\",\n",
    "        \"Built and optimized deep learning pipelines on AWS using Kubernetes, enhancing model deployment efficiency and scalability.\",\n",
    "        \"Automated deployment and retraining of generative models, including GANs, improving the model development lifecycle.\",\n",
    "        \"Developed CI/CD frameworks with Jenkins and MLflow, reducing deployment times and ensuring reliable and maintainable production systems.\",\n",
    "        \"Implemented GPU acceleration in model inference pipelines on AWS SageMaker, optimizing processing times and model performance.\",\n",
    "        \"Integrated TensorBoard and Prometheus for real-time performance monitoring, ensuring model accuracy and operational reliability.\"\n",
    "      ]\n",
    "    },\n",
    "    {\n",
    "      \"title\": \"Junior MLOps Engineer\",\n",
    "      \"company\": \"DataTech Solutions\",\n",
    "      \"location\": \"India\",\n",
    "      \"duration\": \"August 2021 - June 2022\",\n",
    "      \"responsibilities\": [\n",
    "        \"Designed and managed automated pipelines for deploying generative AI models, enhancing datasets through synthetic data generation.\",\n",
    "        \"Containerized NLP models using Docker and Kubernetes for scalable deployment.\",\n",
    "        \"Led deployment of computer vision models, improving accuracy and operational efficiency.\",\n",
    "        \"Implemented transfer learning for object detection tasks, accelerating the model development process.\",\n",
    "        \"Created TensorFlow Serving pipelines for consistent and scalable model deployment.\",\n",
    "        \"Implemented logging and error-handling mechanisms using ELK Stack, reducing system downtime.\"\n",
    "      ]\n",
    "    }\n",
    "  ],\n",
    "  \"projects\": [\n",
    "    {\n",
    "      \"name\": \"Automated ML Pipeline for Predictive Maintenance in Autonomous Vehicles\",\n",
    "      \"company\": \"Invenics Systems\",\n",
    "      \"description\": \"Developed a real-time object detection pipeline using YOLOv5 and TensorFlow for predicting maintenance issues. Integrated Airflow for orchestrating model training and deployment on AWS Lambda, ensuring high availability and minimal downtime.\"\n",
    "    },\n",
    "    {\n",
    "      \"name\": \"Real-time Fraud Detection System Using Generative AI\",\n",
    "      \"company\": \"DataTech Solutions\",\n",
    "      \"description\": \"Built a fraud detection system utilizing VAEs for real-time anomaly detection. Deployed on Kubernetes with CI/CD automation using Jenkins, achieving high accuracy and scalability.\"\n",
    "    },\n",
    "    {\n",
    "      \"name\": \"Generative Image Synthesis Pipeline\",\n",
    "      \"company\": \"Invenics Systems\",\n",
    "      \"description\": \"Developed a GAN-based image synthesis pipeline to augment training datasets, deployed on GCP AI Platform with TensorFlow and Kubernetes, improving model performance and training efficiency.\"\n",
    "    }\n",
    "  ],\n",
    "  \"open_source_contributions\": [\n",
    "    {\n",
    "      \"project\": \"Kubeflow\",\n",
    "      \"contribution\": \"Developed custom operators for scaling computer vision pipelines on Kubernetes.\"\n",
    "    },\n",
    "    {\n",
    "      \"project\": \"MLflow\",\n",
    "      \"contribution\": \"Created extensions for tracking and visualizing GAN training metrics.\"\n",
    "    },\n",
    "    {\n",
    "      \"project\": \"TensorFlow Hub\",\n",
    "      \"contribution\": \"Developed pre-trained models for image classification and segmentation.\"\n",
    "    }\n",
    "  ],\n",
    "  \"education\": {\n",
    "    \"degree\": \"Bachelor of Science in Computer Science\",\n",
    "    \"institution\": \"University of calicut, Kozhikode\",\n",
    "    \"graduation_year\": \"2020\",\n",
    "    \"relevant_courses\": [\n",
    "      \"Machine Learning\",\n",
    "      \"Deep Learning\",\n",
    "      \"Cloud Computing\",\n",
    "      \"Distributed Systems\"\n",
    "    ]\n",
    "  },\n",
    "  \"certifications\": [\n",
    "    {\n",
    "      \"name\": \"AWS Certified Solutions Architect – Associate\",\n",
    "      \"issued\": \"May 2023\"\n",
    "    },\n",
    "    {\n",
    "      \"name\": \"Certified Kubernetes Administrator (CKA)\",\n",
    "      \"issued\": \"September 2022\"\n",
    "    },\n",
    "    {\n",
    "      \"name\": \"TensorFlow Developer Certification\",\n",
    "      \"issued\": \"March 2022\"\n",
    "    },\n",
    "    {\n",
    "      \"name\": \"Google Cloud Professional Data Engineer\",\n",
    "      \"issued\": \"February 2024\"\n",
    "    }\n",
    "  ],\n",
    "  \"technical_proficiencies\": {\n",
    "    \"operating_systems\": [\"Linux (Ubuntu, CentOS)\", \"Windows\"],\n",
    "    \"databases\": [\"MySQL\", \"PostgreSQL\"],\n",
    "    \"version_control\": [\"Git\"]\n",
    "  },\n",
    "  \"references\": \"Available upon request.\"\n",
    "}\n"
   ]
  },
  {
   "cell_type": "code",
   "execution_count": 8,
   "metadata": {},
   "outputs": [],
   "source": [
    "# PDF Generation from JSON for each JOB Description\n",
    "from resumeGenerator import generate_resume_from_json\n",
    "\n",
    "jobs['Generated Json Data'] = None\n",
    "jobs['Generated Resume Path'] = jobs[['Job Descriptions', 'Job ID']].apply(lambda x : generate_resume_from_json(generated_json_data, x[1]), axis=1)"
   ]
  },
  {
   "cell_type": "code",
   "execution_count": null,
   "metadata": {},
   "outputs": [],
   "source": []
  }
 ],
 "metadata": {
  "kernelspec": {
   "display_name": "regen",
   "language": "python",
   "name": "python3"
  },
  "language_info": {
   "codemirror_mode": {
    "name": "ipython",
    "version": 3
   },
   "file_extension": ".py",
   "mimetype": "text/x-python",
   "name": "python",
   "nbconvert_exporter": "python",
   "pygments_lexer": "ipython3",
   "version": "3.10.14"
  }
 },
 "nbformat": 4,
 "nbformat_minor": 4
}
