{
 "cells": [
  {
   "cell_type": "code",
   "execution_count": 8,
   "metadata": {},
   "outputs": [],
   "source": [
    "import sys\n",
    "sys.path.append('../src')\n",
    "sys.path.append('../scripts')\n",
    "\n",
    "import warnings\n",
    "warnings.filterwarnings('ignore')"
   ]
  },
  {
   "cell_type": "code",
   "execution_count": 9,
   "metadata": {},
   "outputs": [],
   "source": [
    "from jobDescriptionScraper import LinkedInDescriptionScraper\n",
    "from jobListingScraper import LinkedInJobListingScraper"
   ]
  },
  {
   "cell_type": "code",
   "execution_count": 10,
   "metadata": {},
   "outputs": [],
   "source": [
    "from resumeRestructre import save_restructured_resume"
   ]
  },
  {
   "cell_type": "code",
   "execution_count": 11,
   "metadata": {},
   "outputs": [],
   "source": [
    "# Restructuring the input resume\n",
    "restructured_resume_path, restructured_resume_json= save_restructured_resume('inputs\\sample_resume_input_1.pdf', 1)"
   ]
  },
  {
   "cell_type": "code",
   "execution_count": 30,
   "metadata": {},
   "outputs": [
    {
     "name": "stdout",
     "output_type": "stream",
     "text": [
      "Scraping page starting at 0\n",
      "CPU times: total: 141 ms\n",
      "Wall time: 31.1 s\n"
     ]
    }
   ],
   "source": [
    "%%time\n",
    "# Job Listing Scraping\n",
    "job_listing_scraper = LinkedInJobListingScraper()\n",
    "jobs = job_listing_scraper.scrape_linkedin_jobs(\"Machine Learning Engineer\", \"India\", 5, \"../linkedincookies.pkl\")"
   ]
  },
  {
   "cell_type": "code",
   "execution_count": 31,
   "metadata": {},
   "outputs": [
    {
     "name": "stdout",
     "output_type": "stream",
     "text": [
      "CPU times: total: 15.6 ms\n",
      "Wall time: 13.1 s\n"
     ]
    }
   ],
   "source": [
    "%%time\n",
    "# Job Description Scraping\n",
    "job_description_scraper = LinkedInDescriptionScraper()\n",
    "jobs['Job Descriptions'] = jobs['Job ID'].apply(lambda x : job_description_scraper.getDescription(job_id=x))"
   ]
  },
  {
   "cell_type": "code",
   "execution_count": 32,
   "metadata": {},
   "outputs": [],
   "source": [
    "from pdfLoader import loadPdfContent\n",
    "restructured_resume_path = \"..\\inputs\\sample_resume_input_1.pdf\"\n",
    "old_resume_content = loadPdfContent(restructured_resume_path)"
   ]
  },
  {
   "cell_type": "code",
   "execution_count": 33,
   "metadata": {},
   "outputs": [],
   "source": [
    "# Old Resume Scoring\n",
    "from resumeRelevancyScore import RelevanceScorer\n",
    "resume_relevence_scorer = RelevanceScorer()\n",
    "\n",
    "jobs['Old Resume Score'] = jobs['Job Descriptions'].apply(lambda x : resume_relevence_scorer.calculate_relevance_score(old_resume_content, x))"
   ]
  },
  {
   "cell_type": "code",
   "execution_count": 34,
   "metadata": {},
   "outputs": [
    {
     "data": {
      "text/html": [
       "<div>\n",
       "<style scoped>\n",
       "    .dataframe tbody tr th:only-of-type {\n",
       "        vertical-align: middle;\n",
       "    }\n",
       "\n",
       "    .dataframe tbody tr th {\n",
       "        vertical-align: top;\n",
       "    }\n",
       "\n",
       "    .dataframe thead th {\n",
       "        text-align: right;\n",
       "    }\n",
       "</style>\n",
       "<table border=\"1\" class=\"dataframe\">\n",
       "  <thead>\n",
       "    <tr style=\"text-align: right;\">\n",
       "      <th></th>\n",
       "      <th>Job Title</th>\n",
       "      <th>Job Post Url</th>\n",
       "      <th>Company Name</th>\n",
       "      <th>Location</th>\n",
       "      <th>Job ID</th>\n",
       "      <th>Job Descriptions</th>\n",
       "      <th>Old Resume Score</th>\n",
       "    </tr>\n",
       "  </thead>\n",
       "  <tbody>\n",
       "    <tr>\n",
       "      <th>0</th>\n",
       "      <td>Generative AI Engineer</td>\n",
       "      <td>https://www.linkedin.com/jobs/view/4009701610/...</td>\n",
       "      <td>Deloitte</td>\n",
       "      <td>Bengaluru, Karnataka, India (Hybrid)</td>\n",
       "      <td>4009701610</td>\n",
       "      <td>Hi, We are looking for Candidates who are havi...</td>\n",
       "      <td>66.19</td>\n",
       "    </tr>\n",
       "    <tr>\n",
       "      <th>1</th>\n",
       "      <td>Data and Applied Scientist II</td>\n",
       "      <td>https://www.linkedin.com/jobs/view/3977751872/...</td>\n",
       "      <td>Microsoft</td>\n",
       "      <td>Kerala, India (Hybrid)</td>\n",
       "      <td>3977751872</td>\n",
       "      <td>Microsoft’s Cloud business is experiencing exp...</td>\n",
       "      <td>66.57</td>\n",
       "    </tr>\n",
       "    <tr>\n",
       "      <th>2</th>\n",
       "      <td>Data Scientist</td>\n",
       "      <td>https://www.linkedin.com/jobs/view/4027402513/...</td>\n",
       "      <td>GeorgiaTEK Systems Inc.</td>\n",
       "      <td>India (Remote)</td>\n",
       "      <td>4027402513</td>\n",
       "      <td>Data Scientist\\nRemote\\nFulltime\\n\\nCandidate ...</td>\n",
       "      <td>66.36</td>\n",
       "    </tr>\n",
       "    <tr>\n",
       "      <th>3</th>\n",
       "      <td>Data Scientist</td>\n",
       "      <td>https://www.linkedin.com/jobs/view/4027415095/...</td>\n",
       "      <td>GeorgiaTEK Systems Inc.</td>\n",
       "      <td>India (Remote)</td>\n",
       "      <td>4027415095</td>\n",
       "      <td>Job Title: Data Scientist\\nExperience: 6+ year...</td>\n",
       "      <td>65.85</td>\n",
       "    </tr>\n",
       "    <tr>\n",
       "      <th>4</th>\n",
       "      <td>Senior Machine Learning Engineer</td>\n",
       "      <td>https://www.linkedin.com/jobs/view/4011065293/...</td>\n",
       "      <td>BayOne Solutions</td>\n",
       "      <td>Greater Bengaluru Area (Hybrid)</td>\n",
       "      <td>4011065293</td>\n",
       "      <td>Description\\nMust Have Skills\\nProven experien...</td>\n",
       "      <td>69.51</td>\n",
       "    </tr>\n",
       "  </tbody>\n",
       "</table>\n",
       "</div>"
      ],
      "text/plain": [
       "                          Job Title  \\\n",
       "0            Generative AI Engineer   \n",
       "1     Data and Applied Scientist II   \n",
       "2                    Data Scientist   \n",
       "3                    Data Scientist   \n",
       "4  Senior Machine Learning Engineer   \n",
       "\n",
       "                                        Job Post Url             Company Name  \\\n",
       "0  https://www.linkedin.com/jobs/view/4009701610/...                 Deloitte   \n",
       "1  https://www.linkedin.com/jobs/view/3977751872/...                Microsoft   \n",
       "2  https://www.linkedin.com/jobs/view/4027402513/...  GeorgiaTEK Systems Inc.   \n",
       "3  https://www.linkedin.com/jobs/view/4027415095/...  GeorgiaTEK Systems Inc.   \n",
       "4  https://www.linkedin.com/jobs/view/4011065293/...         BayOne Solutions   \n",
       "\n",
       "                               Location      Job ID  \\\n",
       "0  Bengaluru, Karnataka, India (Hybrid)  4009701610   \n",
       "1                Kerala, India (Hybrid)  3977751872   \n",
       "2                        India (Remote)  4027402513   \n",
       "3                        India (Remote)  4027415095   \n",
       "4       Greater Bengaluru Area (Hybrid)  4011065293   \n",
       "\n",
       "                                    Job Descriptions  Old Resume Score  \n",
       "0  Hi, We are looking for Candidates who are havi...             66.19  \n",
       "1  Microsoft’s Cloud business is experiencing exp...             66.57  \n",
       "2  Data Scientist\\nRemote\\nFulltime\\n\\nCandidate ...             66.36  \n",
       "3  Job Title: Data Scientist\\nExperience: 6+ year...             65.85  \n",
       "4  Description\\nMust Have Skills\\nProven experien...             69.51  "
      ]
     },
     "execution_count": 34,
     "metadata": {},
     "output_type": "execute_result"
    }
   ],
   "source": [
    "jobs"
   ]
  },
  {
   "cell_type": "code",
   "execution_count": 35,
   "metadata": {},
   "outputs": [],
   "source": [
    "from reGenerate import regen_resume\n",
    "import pandas as pd\n",
    "\n",
    "def apply_regen_resume(row):\n",
    "    regen_json, output_filepath = regen_resume(row['Job Descriptions'], restructured_resume_json, row['Job ID'])\n",
    "    return pd.Series({'ReGen JSON': regen_json, 'ReGen FilePath': output_filepath})\n",
    "\n",
    "jobs[['ReGen JSON', 'ReGen FilePath']] = jobs.apply(apply_regen_resume, axis=1)"
   ]
  },
  {
   "cell_type": "code",
   "execution_count": 59,
   "metadata": {},
   "outputs": [],
   "source": [
    "import importlib\n",
    "from resumeRelevancyScore import RelevanceScorer\n",
    "\n",
    "# Your code using RelevanceScorer...\n",
    "\n",
    "# When you want to reload the module:\n",
    "importlib.reload(importlib.import_module('resumeRelevancyScore'))\n",
    "from resumeRelevancyScore import RelevanceScorer"
   ]
  },
  {
   "cell_type": "code",
   "execution_count": 60,
   "metadata": {},
   "outputs": [],
   "source": [
    "from resumeRelevancyScore import RelevanceScorer\n",
    "resume_relevence_scorer = RelevanceScorer()\n",
    "\n",
    "# Calculating the relavancy score of new resume\n",
    "jobs['New Resume Score'] = jobs[['Job Descriptions', 'Job ID']].apply(lambda x : resume_relevence_scorer.calculate_relevance_score_new(x[1], x[0]), axis=1)"
   ]
  },
  {
   "cell_type": "code",
   "execution_count": 57,
   "metadata": {},
   "outputs": [
    {
     "data": {
      "text/html": [
       "<div>\n",
       "<style scoped>\n",
       "    .dataframe tbody tr th:only-of-type {\n",
       "        vertical-align: middle;\n",
       "    }\n",
       "\n",
       "    .dataframe tbody tr th {\n",
       "        vertical-align: top;\n",
       "    }\n",
       "\n",
       "    .dataframe thead th {\n",
       "        text-align: right;\n",
       "    }\n",
       "</style>\n",
       "<table border=\"1\" class=\"dataframe\">\n",
       "  <thead>\n",
       "    <tr style=\"text-align: right;\">\n",
       "      <th></th>\n",
       "      <th>Job Title</th>\n",
       "      <th>Job Post Url</th>\n",
       "      <th>Company Name</th>\n",
       "      <th>Location</th>\n",
       "      <th>Job ID</th>\n",
       "      <th>Job Descriptions</th>\n",
       "      <th>Old Resume Score</th>\n",
       "      <th>ReGen JSON</th>\n",
       "      <th>ReGen FilePath</th>\n",
       "      <th>New Resume Score</th>\n",
       "    </tr>\n",
       "  </thead>\n",
       "  <tbody>\n",
       "    <tr>\n",
       "      <th>0</th>\n",
       "      <td>Generative AI Engineer</td>\n",
       "      <td>https://www.linkedin.com/jobs/view/4009701610/...</td>\n",
       "      <td>Deloitte</td>\n",
       "      <td>Bengaluru, Karnataka, India (Hybrid)</td>\n",
       "      <td>4009701610</td>\n",
       "      <td>Hi, We are looking for Candidates who are havi...</td>\n",
       "      <td>66.19</td>\n",
       "      <td>{'name': 'Muhammed Büyükkınacı', 'contact': {'...</td>\n",
       "      <td>../generatedResumes\\4009701610.pdf</td>\n",
       "      <td>80.35</td>\n",
       "    </tr>\n",
       "    <tr>\n",
       "      <th>1</th>\n",
       "      <td>Data and Applied Scientist II</td>\n",
       "      <td>https://www.linkedin.com/jobs/view/3977751872/...</td>\n",
       "      <td>Microsoft</td>\n",
       "      <td>Kerala, India (Hybrid)</td>\n",
       "      <td>3977751872</td>\n",
       "      <td>Microsoft’s Cloud business is experiencing exp...</td>\n",
       "      <td>66.57</td>\n",
       "      <td>{'name': 'Muhammed Büyükkınacı', 'contact': {'...</td>\n",
       "      <td>../generatedResumes\\3977751872.pdf</td>\n",
       "      <td>67.46</td>\n",
       "    </tr>\n",
       "    <tr>\n",
       "      <th>2</th>\n",
       "      <td>Data Scientist</td>\n",
       "      <td>https://www.linkedin.com/jobs/view/4027402513/...</td>\n",
       "      <td>GeorgiaTEK Systems Inc.</td>\n",
       "      <td>India (Remote)</td>\n",
       "      <td>4027402513</td>\n",
       "      <td>Data Scientist\\nRemote\\nFulltime\\n\\nCandidate ...</td>\n",
       "      <td>66.36</td>\n",
       "      <td>{'name': 'Muhammed Büyükkınacı', 'contact': {'...</td>\n",
       "      <td>../generatedResumes\\4027402513.pdf</td>\n",
       "      <td>71.93</td>\n",
       "    </tr>\n",
       "    <tr>\n",
       "      <th>3</th>\n",
       "      <td>Data Scientist</td>\n",
       "      <td>https://www.linkedin.com/jobs/view/4027415095/...</td>\n",
       "      <td>GeorgiaTEK Systems Inc.</td>\n",
       "      <td>India (Remote)</td>\n",
       "      <td>4027415095</td>\n",
       "      <td>Job Title: Data Scientist\\nExperience: 6+ year...</td>\n",
       "      <td>65.85</td>\n",
       "      <td>{'name': 'Muhammed Büyükkınacı', 'contact': {'...</td>\n",
       "      <td>../generatedResumes\\4027415095.pdf</td>\n",
       "      <td>80.94</td>\n",
       "    </tr>\n",
       "    <tr>\n",
       "      <th>4</th>\n",
       "      <td>Senior Machine Learning Engineer</td>\n",
       "      <td>https://www.linkedin.com/jobs/view/4011065293/...</td>\n",
       "      <td>BayOne Solutions</td>\n",
       "      <td>Greater Bengaluru Area (Hybrid)</td>\n",
       "      <td>4011065293</td>\n",
       "      <td>Description\\nMust Have Skills\\nProven experien...</td>\n",
       "      <td>69.51</td>\n",
       "      <td>{'name': 'Muhammed Büyükkınacı', 'contact': {'...</td>\n",
       "      <td>../generatedResumes\\4011065293.pdf</td>\n",
       "      <td>86.95</td>\n",
       "    </tr>\n",
       "  </tbody>\n",
       "</table>\n",
       "</div>"
      ],
      "text/plain": [
       "                          Job Title  \\\n",
       "0            Generative AI Engineer   \n",
       "1     Data and Applied Scientist II   \n",
       "2                    Data Scientist   \n",
       "3                    Data Scientist   \n",
       "4  Senior Machine Learning Engineer   \n",
       "\n",
       "                                        Job Post Url             Company Name  \\\n",
       "0  https://www.linkedin.com/jobs/view/4009701610/...                 Deloitte   \n",
       "1  https://www.linkedin.com/jobs/view/3977751872/...                Microsoft   \n",
       "2  https://www.linkedin.com/jobs/view/4027402513/...  GeorgiaTEK Systems Inc.   \n",
       "3  https://www.linkedin.com/jobs/view/4027415095/...  GeorgiaTEK Systems Inc.   \n",
       "4  https://www.linkedin.com/jobs/view/4011065293/...         BayOne Solutions   \n",
       "\n",
       "                               Location      Job ID  \\\n",
       "0  Bengaluru, Karnataka, India (Hybrid)  4009701610   \n",
       "1                Kerala, India (Hybrid)  3977751872   \n",
       "2                        India (Remote)  4027402513   \n",
       "3                        India (Remote)  4027415095   \n",
       "4       Greater Bengaluru Area (Hybrid)  4011065293   \n",
       "\n",
       "                                    Job Descriptions  Old Resume Score  \\\n",
       "0  Hi, We are looking for Candidates who are havi...             66.19   \n",
       "1  Microsoft’s Cloud business is experiencing exp...             66.57   \n",
       "2  Data Scientist\\nRemote\\nFulltime\\n\\nCandidate ...             66.36   \n",
       "3  Job Title: Data Scientist\\nExperience: 6+ year...             65.85   \n",
       "4  Description\\nMust Have Skills\\nProven experien...             69.51   \n",
       "\n",
       "                                          ReGen JSON  \\\n",
       "0  {'name': 'Muhammed Büyükkınacı', 'contact': {'...   \n",
       "1  {'name': 'Muhammed Büyükkınacı', 'contact': {'...   \n",
       "2  {'name': 'Muhammed Büyükkınacı', 'contact': {'...   \n",
       "3  {'name': 'Muhammed Büyükkınacı', 'contact': {'...   \n",
       "4  {'name': 'Muhammed Büyükkınacı', 'contact': {'...   \n",
       "\n",
       "                       ReGen FilePath  New Resume Score  \n",
       "0  ../generatedResumes\\4009701610.pdf             80.35  \n",
       "1  ../generatedResumes\\3977751872.pdf             67.46  \n",
       "2  ../generatedResumes\\4027402513.pdf             71.93  \n",
       "3  ../generatedResumes\\4027415095.pdf             80.94  \n",
       "4  ../generatedResumes\\4011065293.pdf             86.95  "
      ]
     },
     "execution_count": 57,
     "metadata": {},
     "output_type": "execute_result"
    }
   ],
   "source": [
    "jobs"
   ]
  },
  {
   "cell_type": "code",
   "execution_count": null,
   "metadata": {},
   "outputs": [],
   "source": []
  }
 ],
 "metadata": {
  "kernelspec": {
   "display_name": "regen",
   "language": "python",
   "name": "python3"
  },
  "language_info": {
   "codemirror_mode": {
    "name": "ipython",
    "version": 3
   },
   "file_extension": ".py",
   "mimetype": "text/x-python",
   "name": "python",
   "nbconvert_exporter": "python",
   "pygments_lexer": "ipython3",
   "version": "3.10.14"
  }
 },
 "nbformat": 4,
 "nbformat_minor": 4
}
