{
 "cells": [
  {
   "cell_type": "code",
   "execution_count": 1,
   "metadata": {},
   "outputs": [],
   "source": [
    "import sys\n",
    "sys.path.append('../src')\n",
    "sys.path.append('../scripts')\n",
    "\n",
    "import warnings\n",
    "warnings.filterwarnings('ignore')"
   ]
  },
  {
   "cell_type": "code",
   "execution_count": 3,
   "metadata": {},
   "outputs": [],
   "source": [
    "from jobDescriptionScraper import LinkedInDescriptionScraper\n",
    "from jobListingScraper import LinkedInJobListingScraper"
   ]
  },
  {
   "cell_type": "code",
   "execution_count": 4,
   "metadata": {},
   "outputs": [],
   "source": [
    "from resumeRestructre import save_restructured_resume"
   ]
  },
  {
   "cell_type": "code",
   "execution_count": 11,
   "metadata": {},
   "outputs": [],
   "source": [
    "# Restructuring the input resume\n",
    "restructured_resume_path, restructured_resume_json= save_restructured_resume('inputs\\sample_resume_input_1.pdf', 1)"
   ]
  },
  {
   "cell_type": "code",
   "execution_count": 5,
   "metadata": {},
   "outputs": [
    {
     "name": "stdout",
     "output_type": "stream",
     "text": [
      "Scraping page starting at 0\n",
      "CPU times: total: 172 ms\n",
      "Wall time: 24.5 s\n"
     ]
    }
   ],
   "source": [
    "%%time\n",
    "# Job Listing Scraping\n",
    "job_listing_scraper = LinkedInJobListingScraper()\n",
    "jobs = job_listing_scraper.scrape_linkedin_jobs(\"Machine Learning Engineer\", \"India\", 5, \"../linkedincookies.pkl\")"
   ]
  },
  {
   "cell_type": "code",
   "execution_count": 6,
   "metadata": {},
   "outputs": [
    {
     "name": "stdout",
     "output_type": "stream",
     "text": [
      "CPU times: total: 31.2 ms\n",
      "Wall time: 16.6 s\n"
     ]
    }
   ],
   "source": [
    "%%time\n",
    "# Job Description Scraping\n",
    "job_description_scraper = LinkedInDescriptionScraper()\n",
    "jobs['Job Descriptions'] = jobs['Job ID'].apply(lambda x : job_description_scraper.getDescription(job_id=x))"
   ]
  },
  {
   "cell_type": "code",
   "execution_count": 7,
   "metadata": {},
   "outputs": [],
   "source": [
    "from pdfLoader import loadPdfContent\n",
    "restructured_resume_path = \"..\\inputs\\sample_resume_input_1.pdf\"\n",
    "old_resume_content = loadPdfContent(restructured_resume_path)"
   ]
  },
  {
   "cell_type": "code",
   "execution_count": 8,
   "metadata": {},
   "outputs": [],
   "source": [
    "# Old Resume Scoring\n",
    "from resumeRelevancyScore import RelevanceScorer\n",
    "resume_relevence_scorer = RelevanceScorer()\n",
    "\n",
    "jobs['Old Resume Score'] = jobs['Job Descriptions'].apply(lambda x : resume_relevence_scorer.calculate_relevance_score(old_resume_content, x))"
   ]
  },
  {
   "cell_type": "code",
   "execution_count": 9,
   "metadata": {},
   "outputs": [
    {
     "data": {
      "text/html": [
       "<div>\n",
       "<style scoped>\n",
       "    .dataframe tbody tr th:only-of-type {\n",
       "        vertical-align: middle;\n",
       "    }\n",
       "\n",
       "    .dataframe tbody tr th {\n",
       "        vertical-align: top;\n",
       "    }\n",
       "\n",
       "    .dataframe thead th {\n",
       "        text-align: right;\n",
       "    }\n",
       "</style>\n",
       "<table border=\"1\" class=\"dataframe\">\n",
       "  <thead>\n",
       "    <tr style=\"text-align: right;\">\n",
       "      <th></th>\n",
       "      <th>Job Title</th>\n",
       "      <th>Job Post Url</th>\n",
       "      <th>Company Name</th>\n",
       "      <th>Location</th>\n",
       "      <th>Job ID</th>\n",
       "      <th>Job Descriptions</th>\n",
       "      <th>Old Resume Score</th>\n",
       "    </tr>\n",
       "  </thead>\n",
       "  <tbody>\n",
       "    <tr>\n",
       "      <th>0</th>\n",
       "      <td>Generative AI Engineer</td>\n",
       "      <td>https://www.linkedin.com/jobs/view/4009701610/...</td>\n",
       "      <td>Deloitte</td>\n",
       "      <td>Bengaluru, Karnataka, India (Hybrid)</td>\n",
       "      <td>4009701610</td>\n",
       "      <td>Hi, We are looking for Candidates who are havi...</td>\n",
       "      <td>66.19</td>\n",
       "    </tr>\n",
       "    <tr>\n",
       "      <th>1</th>\n",
       "      <td>Data and Applied Scientist II</td>\n",
       "      <td>https://www.linkedin.com/jobs/view/3977751872/...</td>\n",
       "      <td>Microsoft</td>\n",
       "      <td>Kerala, India (Hybrid)</td>\n",
       "      <td>3977751872</td>\n",
       "      <td>Microsoft’s Cloud business is experiencing exp...</td>\n",
       "      <td>66.57</td>\n",
       "    </tr>\n",
       "    <tr>\n",
       "      <th>2</th>\n",
       "      <td>Machine Learning Engineer</td>\n",
       "      <td>https://www.linkedin.com/jobs/view/3992115810/...</td>\n",
       "      <td>KeyValue Software Systems</td>\n",
       "      <td>Kochi, Kerala, India (On-site)</td>\n",
       "      <td>3992115810</td>\n",
       "      <td>About KeyValue\\n\\nKeyValue is a product develo...</td>\n",
       "      <td>57.31</td>\n",
       "    </tr>\n",
       "    <tr>\n",
       "      <th>3</th>\n",
       "      <td>Sr. Machine Learning Engineer</td>\n",
       "      <td>https://www.linkedin.com/jobs/view/4015810227/...</td>\n",
       "      <td>Acentra Health</td>\n",
       "      <td>Chennai, Tamil Nadu, India (On-site)</td>\n",
       "      <td>4015810227</td>\n",
       "      <td>Job Title: Sr. Machine Learning Engineer\\nLoca...</td>\n",
       "      <td>59.58</td>\n",
       "    </tr>\n",
       "    <tr>\n",
       "      <th>4</th>\n",
       "      <td>Senior Machine Learning Engineer (NLP, ML Models)</td>\n",
       "      <td>https://www.linkedin.com/jobs/view/4009752525/...</td>\n",
       "      <td>Qlik</td>\n",
       "      <td>Bengaluru, Karnataka, India (On-site)</td>\n",
       "      <td>4009752525</td>\n",
       "      <td>Description\\n\\nWhat makes us Qlik?\\n\\nA Gartne...</td>\n",
       "      <td>67.20</td>\n",
       "    </tr>\n",
       "  </tbody>\n",
       "</table>\n",
       "</div>"
      ],
      "text/plain": [
       "                                           Job Title  \\\n",
       "0                             Generative AI Engineer   \n",
       "1                      Data and Applied Scientist II   \n",
       "2                          Machine Learning Engineer   \n",
       "3                      Sr. Machine Learning Engineer   \n",
       "4  Senior Machine Learning Engineer (NLP, ML Models)   \n",
       "\n",
       "                                        Job Post Url  \\\n",
       "0  https://www.linkedin.com/jobs/view/4009701610/...   \n",
       "1  https://www.linkedin.com/jobs/view/3977751872/...   \n",
       "2  https://www.linkedin.com/jobs/view/3992115810/...   \n",
       "3  https://www.linkedin.com/jobs/view/4015810227/...   \n",
       "4  https://www.linkedin.com/jobs/view/4009752525/...   \n",
       "\n",
       "                Company Name                               Location  \\\n",
       "0                   Deloitte   Bengaluru, Karnataka, India (Hybrid)   \n",
       "1                  Microsoft                 Kerala, India (Hybrid)   \n",
       "2  KeyValue Software Systems         Kochi, Kerala, India (On-site)   \n",
       "3             Acentra Health   Chennai, Tamil Nadu, India (On-site)   \n",
       "4                       Qlik  Bengaluru, Karnataka, India (On-site)   \n",
       "\n",
       "       Job ID                                   Job Descriptions  \\\n",
       "0  4009701610  Hi, We are looking for Candidates who are havi...   \n",
       "1  3977751872  Microsoft’s Cloud business is experiencing exp...   \n",
       "2  3992115810  About KeyValue\\n\\nKeyValue is a product develo...   \n",
       "3  4015810227  Job Title: Sr. Machine Learning Engineer\\nLoca...   \n",
       "4  4009752525  Description\\n\\nWhat makes us Qlik?\\n\\nA Gartne...   \n",
       "\n",
       "   Old Resume Score  \n",
       "0             66.19  \n",
       "1             66.57  \n",
       "2             57.31  \n",
       "3             59.58  \n",
       "4             67.20  "
      ]
     },
     "execution_count": 9,
     "metadata": {},
     "output_type": "execute_result"
    }
   ],
   "source": [
    "jobs"
   ]
  },
  {
   "cell_type": "code",
   "execution_count": 13,
   "metadata": {},
   "outputs": [],
   "source": [
    "from reGenerate import regen_resume\n",
    "import pandas as pd\n",
    "\n",
    "def apply_regen_resume(row):\n",
    "    regen_json, output_filepath = regen_resume(row['Job Descriptions'], restructured_resume_json, row['Job ID'])\n",
    "    return pd.Series({'ReGen JSON': regen_json, 'ReGen FilePath': output_filepath})\n",
    "\n",
    "jobs[['ReGen JSON', 'ReGen FilePath']] = jobs.apply(apply_regen_resume, axis=1)"
   ]
  },
  {
   "cell_type": "code",
   "execution_count": 14,
   "metadata": {},
   "outputs": [],
   "source": [
    "from resumeRelevancyScore import RelevanceScorer\n",
    "resume_relevence_scorer = RelevanceScorer()\n",
    "\n",
    "# Calculating the relavancy score of new resume\n",
    "jobs['New Resume Score'] = jobs[['Job Descriptions', 'Job ID']].apply(lambda x : resume_relevence_scorer.calculate_relevance_score_new(x[1], x[0]), axis=1)"
   ]
  },
  {
   "cell_type": "code",
   "execution_count": 15,
   "metadata": {},
   "outputs": [
    {
     "data": {
      "text/html": [
       "<div>\n",
       "<style scoped>\n",
       "    .dataframe tbody tr th:only-of-type {\n",
       "        vertical-align: middle;\n",
       "    }\n",
       "\n",
       "    .dataframe tbody tr th {\n",
       "        vertical-align: top;\n",
       "    }\n",
       "\n",
       "    .dataframe thead th {\n",
       "        text-align: right;\n",
       "    }\n",
       "</style>\n",
       "<table border=\"1\" class=\"dataframe\">\n",
       "  <thead>\n",
       "    <tr style=\"text-align: right;\">\n",
       "      <th></th>\n",
       "      <th>Job Title</th>\n",
       "      <th>Job Post Url</th>\n",
       "      <th>Company Name</th>\n",
       "      <th>Location</th>\n",
       "      <th>Job ID</th>\n",
       "      <th>Job Descriptions</th>\n",
       "      <th>Old Resume Score</th>\n",
       "      <th>ReGen JSON</th>\n",
       "      <th>ReGen FilePath</th>\n",
       "      <th>New Resume Score</th>\n",
       "    </tr>\n",
       "  </thead>\n",
       "  <tbody>\n",
       "    <tr>\n",
       "      <th>0</th>\n",
       "      <td>Generative AI Engineer</td>\n",
       "      <td>https://www.linkedin.com/jobs/view/4009701610/...</td>\n",
       "      <td>Deloitte</td>\n",
       "      <td>Bengaluru, Karnataka, India (Hybrid)</td>\n",
       "      <td>4009701610</td>\n",
       "      <td>Hi, We are looking for Candidates who are havi...</td>\n",
       "      <td>66.19</td>\n",
       "      <td>{'name': 'Muhammed Büyükkınacı', 'contact': {'...</td>\n",
       "      <td>../generatedResumes\\4009701610.pdf</td>\n",
       "      <td>78.99</td>\n",
       "    </tr>\n",
       "    <tr>\n",
       "      <th>1</th>\n",
       "      <td>Data and Applied Scientist II</td>\n",
       "      <td>https://www.linkedin.com/jobs/view/3977751872/...</td>\n",
       "      <td>Microsoft</td>\n",
       "      <td>Kerala, India (Hybrid)</td>\n",
       "      <td>3977751872</td>\n",
       "      <td>Microsoft’s Cloud business is experiencing exp...</td>\n",
       "      <td>66.57</td>\n",
       "      <td>{'name': 'Muhammed Büyükkınacı', 'contact': {'...</td>\n",
       "      <td>../generatedResumes\\3977751872.pdf</td>\n",
       "      <td>71.02</td>\n",
       "    </tr>\n",
       "    <tr>\n",
       "      <th>2</th>\n",
       "      <td>Machine Learning Engineer</td>\n",
       "      <td>https://www.linkedin.com/jobs/view/3992115810/...</td>\n",
       "      <td>KeyValue Software Systems</td>\n",
       "      <td>Kochi, Kerala, India (On-site)</td>\n",
       "      <td>3992115810</td>\n",
       "      <td>About KeyValue\\n\\nKeyValue is a product develo...</td>\n",
       "      <td>57.31</td>\n",
       "      <td>{'name': 'Muhammed Büyükkınacı', 'contact': {'...</td>\n",
       "      <td>../generatedResumes\\3992115810.pdf</td>\n",
       "      <td>63.30</td>\n",
       "    </tr>\n",
       "    <tr>\n",
       "      <th>3</th>\n",
       "      <td>Sr. Machine Learning Engineer</td>\n",
       "      <td>https://www.linkedin.com/jobs/view/4015810227/...</td>\n",
       "      <td>Acentra Health</td>\n",
       "      <td>Chennai, Tamil Nadu, India (On-site)</td>\n",
       "      <td>4015810227</td>\n",
       "      <td>Job Title: Sr. Machine Learning Engineer\\nLoca...</td>\n",
       "      <td>59.58</td>\n",
       "      <td>{'name': 'Muhammed Büyükkınacı', 'contact': {'...</td>\n",
       "      <td>../generatedResumes\\4015810227.pdf</td>\n",
       "      <td>70.46</td>\n",
       "    </tr>\n",
       "    <tr>\n",
       "      <th>4</th>\n",
       "      <td>Senior Machine Learning Engineer (NLP, ML Models)</td>\n",
       "      <td>https://www.linkedin.com/jobs/view/4009752525/...</td>\n",
       "      <td>Qlik</td>\n",
       "      <td>Bengaluru, Karnataka, India (On-site)</td>\n",
       "      <td>4009752525</td>\n",
       "      <td>Description\\n\\nWhat makes us Qlik?\\n\\nA Gartne...</td>\n",
       "      <td>67.20</td>\n",
       "      <td>{'name': 'Muhammed Büyükkınacı', 'contact': {'...</td>\n",
       "      <td>../generatedResumes\\4009752525.pdf</td>\n",
       "      <td>74.46</td>\n",
       "    </tr>\n",
       "  </tbody>\n",
       "</table>\n",
       "</div>"
      ],
      "text/plain": [
       "                                           Job Title  \\\n",
       "0                             Generative AI Engineer   \n",
       "1                      Data and Applied Scientist II   \n",
       "2                          Machine Learning Engineer   \n",
       "3                      Sr. Machine Learning Engineer   \n",
       "4  Senior Machine Learning Engineer (NLP, ML Models)   \n",
       "\n",
       "                                        Job Post Url  \\\n",
       "0  https://www.linkedin.com/jobs/view/4009701610/...   \n",
       "1  https://www.linkedin.com/jobs/view/3977751872/...   \n",
       "2  https://www.linkedin.com/jobs/view/3992115810/...   \n",
       "3  https://www.linkedin.com/jobs/view/4015810227/...   \n",
       "4  https://www.linkedin.com/jobs/view/4009752525/...   \n",
       "\n",
       "                Company Name                               Location  \\\n",
       "0                   Deloitte   Bengaluru, Karnataka, India (Hybrid)   \n",
       "1                  Microsoft                 Kerala, India (Hybrid)   \n",
       "2  KeyValue Software Systems         Kochi, Kerala, India (On-site)   \n",
       "3             Acentra Health   Chennai, Tamil Nadu, India (On-site)   \n",
       "4                       Qlik  Bengaluru, Karnataka, India (On-site)   \n",
       "\n",
       "       Job ID                                   Job Descriptions  \\\n",
       "0  4009701610  Hi, We are looking for Candidates who are havi...   \n",
       "1  3977751872  Microsoft’s Cloud business is experiencing exp...   \n",
       "2  3992115810  About KeyValue\\n\\nKeyValue is a product develo...   \n",
       "3  4015810227  Job Title: Sr. Machine Learning Engineer\\nLoca...   \n",
       "4  4009752525  Description\\n\\nWhat makes us Qlik?\\n\\nA Gartne...   \n",
       "\n",
       "   Old Resume Score                                         ReGen JSON  \\\n",
       "0             66.19  {'name': 'Muhammed Büyükkınacı', 'contact': {'...   \n",
       "1             66.57  {'name': 'Muhammed Büyükkınacı', 'contact': {'...   \n",
       "2             57.31  {'name': 'Muhammed Büyükkınacı', 'contact': {'...   \n",
       "3             59.58  {'name': 'Muhammed Büyükkınacı', 'contact': {'...   \n",
       "4             67.20  {'name': 'Muhammed Büyükkınacı', 'contact': {'...   \n",
       "\n",
       "                       ReGen FilePath  New Resume Score  \n",
       "0  ../generatedResumes\\4009701610.pdf             78.99  \n",
       "1  ../generatedResumes\\3977751872.pdf             71.02  \n",
       "2  ../generatedResumes\\3992115810.pdf             63.30  \n",
       "3  ../generatedResumes\\4015810227.pdf             70.46  \n",
       "4  ../generatedResumes\\4009752525.pdf             74.46  "
      ]
     },
     "execution_count": 15,
     "metadata": {},
     "output_type": "execute_result"
    }
   ],
   "source": [
    "jobs"
   ]
  },
  {
   "cell_type": "code",
   "execution_count": null,
   "metadata": {},
   "outputs": [],
   "source": []
  }
 ],
 "metadata": {
  "kernelspec": {
   "display_name": "regen",
   "language": "python",
   "name": "python3"
  },
  "language_info": {
   "codemirror_mode": {
    "name": "ipython",
    "version": 3
   },
   "file_extension": ".py",
   "mimetype": "text/x-python",
   "name": "python",
   "nbconvert_exporter": "python",
   "pygments_lexer": "ipython3",
   "version": "3.11.5"
  }
 },
 "nbformat": 4,
 "nbformat_minor": 4
}
